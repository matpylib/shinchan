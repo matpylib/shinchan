{
 "cells": [
  {
   "cell_type": "code",
   "execution_count": 1,
   "metadata": {},
   "outputs": [],
   "source": [
    "# Importing Libraries\n",
    "import pandas as pd\n",
    "import numpy as np\n",
    "import matplotlib.pyplot as plt"
   ]
  },
  {
   "cell_type": "code",
   "execution_count": 2,
   "metadata": {},
   "outputs": [],
   "source": [
    "# Importing Dataset\n",
    "data_set = pd.read_csv('bike.csv')"
   ]
  },
  {
   "cell_type": "code",
   "execution_count": 3,
   "metadata": {},
   "outputs": [
    {
     "name": "stdout",
     "output_type": "stream",
     "text": [
      "<class 'pandas.core.frame.DataFrame'>\n",
      "RangeIndex: 374115 entries, 0 to 374114\n",
      "Data columns (total 9 columns):\n",
      "Duration                374115 non-null int64\n",
      "Start date              374115 non-null object\n",
      "End date                374115 non-null object\n",
      "Start station number    374115 non-null int64\n",
      "Start station           374115 non-null object\n",
      "End station number      374115 non-null int64\n",
      "End station             374115 non-null object\n",
      "Bike number             374115 non-null object\n",
      "Member type             374115 non-null object\n",
      "dtypes: int64(3), object(6)\n",
      "memory usage: 25.7+ MB\n",
      "None\n",
      "[[  679 31302 31307]\n",
      " [  578 31232 31609]\n",
      " [  580 31232 31609]\n",
      " [  606 31104 31509]\n",
      " [  582 31129 31118]]\n",
      "['Member' 'Casual' 'Casual' 'Member' 'Member']\n"
     ]
    }
   ],
   "source": [
    "# Data set summary\n",
    "print(data_set.info())\n",
    "\n",
    "# Separation of Independent Variable(IV), Dependent Variable (DV)\n",
    "X = data_set.iloc[:, [0, 3, 5]].values\n",
    "y = data_set.iloc[:, -1].values\n",
    "print(X[:5])\n",
    "print(y[:5])"
   ]
  },
  {
   "cell_type": "code",
   "execution_count": 4,
   "metadata": {},
   "outputs": [
    {
     "name": "stdout",
     "output_type": "stream",
     "text": [
      "Sample y: [1 0 0 1 1]\n",
      "0 : Casual\n",
      "1 : Member\n"
     ]
    }
   ],
   "source": [
    "# y has Categorical data hence needs Encoding\n",
    "from sklearn.preprocessing import LabelEncoder\n",
    "labelencoder_y =LabelEncoder()\n",
    "y = labelencoder_y.fit_transform(y)\n",
    "print(\"Sample y:\",y[:5])\n",
    "print(\"0 :\",labelencoder_y.classes_[0])\n",
    "print(\"1 :\",labelencoder_y.classes_[1])"
   ]
  },
  {
   "cell_type": "code",
   "execution_count": 5,
   "metadata": {},
   "outputs": [],
   "source": [
    "# Splitting of Data into Training & Testing\n",
    "from sklearn.model_selection import train_test_split\n",
    "X_train, X_test, y_train, y_test = train_test_split(X, y, test_size=0.25, random_state=0)"
   ]
  },
  {
   "cell_type": "code",
   "execution_count": 6,
   "metadata": {},
   "outputs": [
    {
     "data": {
      "text/plain": [
       "DecisionTreeClassifier(class_weight=None, criterion='entropy', max_depth=None,\n",
       "            max_features=None, max_leaf_nodes=None,\n",
       "            min_impurity_decrease=0.0, min_impurity_split=None,\n",
       "            min_samples_leaf=4, min_samples_split=2,\n",
       "            min_weight_fraction_leaf=0.0, presort=False, random_state=0,\n",
       "            splitter='best')"
      ]
     },
     "execution_count": 6,
     "metadata": {},
     "output_type": "execute_result"
    }
   ],
   "source": [
    "# Machine: Classifier | Classifier: Decision Tree\n",
    "from sklearn.tree import DecisionTreeClassifier\n",
    "classifier = DecisionTreeClassifier(criterion='entropy', min_samples_leaf=4, random_state=0)\n",
    "classifier.fit(X_train, y_train)"
   ]
  },
  {
   "cell_type": "code",
   "execution_count": 7,
   "metadata": {},
   "outputs": [],
   "source": [
    "# Predicting the Test set results\n",
    "y_pred = classifier.predict(X_test)\n"
   ]
  },
  {
   "cell_type": "code",
   "execution_count": 8,
   "metadata": {},
   "outputs": [
    {
     "name": "stdout",
     "output_type": "stream",
     "text": [
      "[[16396  8901]\n",
      " [10599 57633]]\n"
     ]
    }
   ],
   "source": [
    "from sklearn.metrics import confusion_matrix\n",
    "cm = confusion_matrix(y_test, y_pred)\n",
    "print(cm)\n"
   ]
  },
  {
   "cell_type": "code",
   "execution_count": null,
   "metadata": {},
   "outputs": [],
   "source": []
  }
 ],
 "metadata": {
  "kernelspec": {
   "display_name": "Python 3",
   "language": "python",
   "name": "python3"
  },
  "language_info": {
   "codemirror_mode": {
    "name": "ipython",
    "version": 3
   },
   "file_extension": ".py",
   "mimetype": "text/x-python",
   "name": "python",
   "nbconvert_exporter": "python",
   "pygments_lexer": "ipython3",
   "version": "3.7.1"
  }
 },
 "nbformat": 4,
 "nbformat_minor": 2
}
